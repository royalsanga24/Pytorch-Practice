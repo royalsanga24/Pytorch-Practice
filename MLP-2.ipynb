{
 "cells": [
  {
   "cell_type": "code",
   "execution_count": 1,
   "id": "918b15fb-34fd-4ff8-a427-f67db1d8eb3f",
   "metadata": {},
   "outputs": [],
   "source": [
    "# Reference Paper https://www.jmlr.org/papers/volume3/bengio03a/bengio03a.pdf\n",
    "import torch\n",
    "import torch.nn.functional as F\n",
    "import matplotlib.pyplot as plt\n",
    "%matplotlib inline"
   ]
  },
  {
   "cell_type": "code",
   "execution_count": 2,
   "id": "5b21d64a-923f-435c-902d-e148865e9fdf",
   "metadata": {},
   "outputs": [
    {
     "data": {
      "text/plain": [
       "['emma',\n",
       " 'olivia',\n",
       " 'ava',\n",
       " 'isabella',\n",
       " 'sophia',\n",
       " 'charlotte',\n",
       " 'mia',\n",
       " 'amelia',\n",
       " 'harper',\n",
       " 'evelyn']"
      ]
     },
     "execution_count": 2,
     "metadata": {},
     "output_type": "execute_result"
    }
   ],
   "source": [
    "words = open('names.txt', 'r').read().splitlines()\n",
    "words[:10]"
   ]
  },
  {
   "cell_type": "code",
   "execution_count": 3,
   "id": "857f2896-4edf-4f99-92cf-cac3ba74a3de",
   "metadata": {},
   "outputs": [
    {
     "data": {
      "text/plain": [
       "32033"
      ]
     },
     "execution_count": 3,
     "metadata": {},
     "output_type": "execute_result"
    }
   ],
   "source": [
    "len(words)"
   ]
  },
  {
   "cell_type": "code",
   "execution_count": 4,
   "id": "0f86c4ac-c8ab-4658-8705-02757d8ea623",
   "metadata": {},
   "outputs": [
    {
     "name": "stdout",
     "output_type": "stream",
     "text": [
      "{1: 'a', 2: 'b', 3: 'c', 4: 'd', 5: 'e', 6: 'f', 7: 'g', 8: 'h', 9: 'i', 10: 'j', 11: 'k', 12: 'l', 13: 'm', 14: 'n', 15: 'o', 16: 'p', 17: 'q', 18: 'r', 19: 's', 20: 't', 21: 'u', 22: 'v', 23: 'w', 24: 'x', 25: 'y', 26: 'z', 0: '.'}\n",
      "27\n"
     ]
    }
   ],
   "source": [
    "chars = sorted(list(set(''.join(words))))\n",
    "stoi = {s:i+1 for i, s in enumerate(chars)}\n",
    "stoi['.'] = 0\n",
    "itos = {i:s for s, i in stoi.items()}\n",
    "vocab_size = len(itos)\n",
    "print(itos)\n",
    "print(vocab_size)"
   ]
  },
  {
   "cell_type": "code",
   "execution_count": 5,
   "id": "a656353b-8621-41fe-8926-7a453709158f",
   "metadata": {},
   "outputs": [
    {
     "name": "stdout",
     "output_type": "stream",
     "text": [
      "torch.Size([182625, 3]) torch.Size([182625])\n",
      "torch.Size([22655, 3]) torch.Size([22655])\n",
      "torch.Size([22866, 3]) torch.Size([22866])\n"
     ]
    }
   ],
   "source": [
    "block_size =  3 #context length. How many characters do we take to predict the next one\n",
    "def build_dataset(words):\n",
    "    X, Y = [], []\n",
    "    for w in words:\n",
    "        context = [0]*block_size\n",
    "        for ch in w + '.':\n",
    "            ix = stoi[ch]\n",
    "            X.append(context)\n",
    "            Y.append(ix)\n",
    "            context = context[1:] + [ix]\n",
    "    X = torch.tensor(X)\n",
    "    Y = torch.tensor(Y)\n",
    "    print(X.shape, Y.shape)\n",
    "    return X, Y\n",
    "\n",
    "import random\n",
    "random.seed(42)\n",
    "random.shuffle(words)\n",
    "n1 = int(0.8*len(words))\n",
    "n2 = int(0.9*len(words))\n",
    "\n",
    "Xtr, Ytr = build_dataset(words[:n1]) #80% samples\n",
    "Xdev, Ydev = build_dataset(words[n1:n2]) #10% samples\n",
    "Xte, Yte = build_dataset(words[n2:]) #10% samples"
   ]
  },
  {
   "cell_type": "code",
   "execution_count": 6,
   "id": "cb32b44f-906c-40f6-ab87-360d4a8aa90c",
   "metadata": {},
   "outputs": [
    {
     "name": "stdout",
     "output_type": "stream",
     "text": [
      "11897\n"
     ]
    }
   ],
   "source": [
    "n_embd = 10 # dimensions of character embedding vectors\n",
    "n_hidden = 200 # number of nuerons in hidden layer\n",
    "\n",
    "g = torch.Generator().manual_seed(2147483647) # for same result reproducibility\n",
    "C = torch.randn((vocab_size, n_embd), generator=g)\n",
    "W1 = torch.randn((n_embd * block_size, n_hidden), generator = g)\n",
    "b1 = torch.randn(n_hidden, generator = g)\n",
    "W2 = torch.randn((n_hidden, vocab_size), generator = g)\n",
    "b2 = torch.randn(vocab_size, generator = g)\n",
    "\n",
    "parameters = [C, W1, b1, W2, b2]\n",
    "print(sum(p.nelement() for p in parameters))\n",
    "for p in parameters:\n",
    "    p.requires_grad = True"
   ]
  },
  {
   "cell_type": "code",
   "execution_count": 7,
   "id": "b59577ae-b55e-4367-b6f7-33d470816fba",
   "metadata": {},
   "outputs": [
    {
     "name": "stdout",
     "output_type": "stream",
     "text": [
      "      0/ 200000:27.8817\n",
      "  10000/ 200000:2.8263\n",
      "  20000/ 200000:2.5130\n",
      "  30000/ 200000:2.8010\n",
      "  40000/ 200000:2.0541\n",
      "  50000/ 200000:2.6152\n",
      "  60000/ 200000:2.3549\n",
      "  70000/ 200000:2.0835\n",
      "  80000/ 200000:2.2652\n",
      "  90000/ 200000:2.2635\n",
      " 100000/ 200000:2.0810\n",
      " 110000/ 200000:2.3367\n",
      " 120000/ 200000:1.9650\n",
      " 130000/ 200000:2.4398\n",
      " 140000/ 200000:2.1524\n",
      " 150000/ 200000:2.1201\n",
      " 160000/ 200000:2.0399\n",
      " 170000/ 200000:1.8172\n",
      " 180000/ 200000:2.0771\n",
      " 190000/ 200000:1.7632\n"
     ]
    }
   ],
   "source": [
    "max_steps = 200000\n",
    "batch_size = 32\n",
    "lossi = []\n",
    "\n",
    "for i in range(max_steps):\n",
    "    ix = torch.randint(0, Xtr.shape[0], (batch_size,), generator=g)\n",
    "    Xb, Yb = Xtr[ix], Ytr[ix] # batch X, Y\n",
    "    \n",
    "    # FORWARD PASS\n",
    "    emb = C[Xb] # Embedding characters into vectors\n",
    "    embcat = emb.view(emb.shape[0], -1) # concatenate the vectors\n",
    "    hpreact = embcat @ W1 + b1 # hidden layer pre-activation\n",
    "    # First layer will be 3 input embeddings\n",
    "    h = torch.tanh(hpreact) # Second (hidden) Layer (32, 100)\n",
    "    logits = h @ W2 + b2 # Third Layer (32, 27)\n",
    "    loss = F.cross_entropy(logits, Yb)\n",
    "    \n",
    "    # print(loss.item())\n",
    "    # BACKWARD PASS\n",
    "    for p in parameters:\n",
    "        p.grad = None\n",
    "    loss.backward()\n",
    "    lr = 0.1 if i < 100000 else 0.01\n",
    "    for p in parameters:\n",
    "        p.data += -lr * p.grad\n",
    "\n",
    "    if i % 10000 == 0:\n",
    "        print(f'{i:7d}/{max_steps:7d}:{loss.item():.4f}') #print once in a while\n",
    "    lossi.append(loss.log10().item())"
   ]
  },
  {
   "cell_type": "code",
   "execution_count": 8,
   "id": "fd2ee0b0-356d-49c1-b7fb-10a5f6a54207",
   "metadata": {},
   "outputs": [
    {
     "data": {
      "text/plain": [
       "[<matplotlib.lines.Line2D at 0x15fe99b80>]"
      ]
     },
     "execution_count": 8,
     "metadata": {},
     "output_type": "execute_result"
    },
    {
     "data": {
      "image/png": "[encoded data removed]",
      "text/plain": [
       "<Figure size 640x480 with 1 Axes>"
      ]
     },
     "metadata": {},
     "output_type": "display_data"
    }
   ],
   "source": [
    "plt.plot(lossi)"
   ]
  },
  {
   "cell_type": "code",
   "execution_count": 9,
   "id": "f37ad590-fe04-4667-9418-03bfbe03d60c",
   "metadata": {},
   "outputs": [
    {
     "name": "stdout",
     "output_type": "stream",
     "text": [
      "train 2.1261181831359863\n",
      "val 2.1693320274353027\n"
     ]
    }
   ],
   "source": [
    "@torch.no_grad()\n",
    "def split_loss(split):\n",
    "    x, y = {\n",
    "        'train': (Xtr, Ytr),\n",
    "        'val': (Xdev, Ydev),\n",
    "        'test': (Xte, Yte),\n",
    "    }[split]\n",
    "    emb = C[x]\n",
    "    embcat = emb.view(emb.shape[0], -1)\n",
    "    h = torch.tanh(embcat @ W1 + b1)\n",
    "    logits = h @ W2 + b2\n",
    "    loss = F.cross_entropy(logits, y)\n",
    "    print(split, loss.item())\n",
    "\n",
    "split_loss('train')\n",
    "split_loss('val')"
   ]
  },
  {
   "cell_type": "code",
   "execution_count": 10,
   "id": "120cc92e-8bf8-48c1-9e15-c867b1f12bcc",
   "metadata": {},
   "outputs": [
    {
     "name": "stdout",
     "output_type": "stream",
     "text": [
      "carlah.\n",
      "amorie.\n",
      "khi.\n",
      "myli.\n",
      "taty.\n",
      "salayson.\n",
      "mahnen.\n",
      "den.\n",
      "art.\n",
      "kaeli.\n",
      "nellara.\n",
      "chaiir.\n",
      "kaleigh.\n",
      "ham.\n",
      "jorn.\n",
      "quint.\n",
      "salin.\n",
      "alianni.\n",
      "wazthoniearynix.\n",
      "kaelissuli.\n"
     ]
    }
   ],
   "source": [
    "g = torch.Generator().manual_seed(2147483647 + 10)\n",
    "\n",
    "for _ in range(20):\n",
    "    out = []\n",
    "    context = [0] * block_size\n",
    "    while True:\n",
    "        emb = C[torch.tensor([context])]\n",
    "        h = torch.tanh(emb.view(1, -1) @ W1 + b1)\n",
    "        logits = h @ W2 + b2\n",
    "        probs = F.softmax(logits, dim=1)\n",
    "        ix = torch.multinomial(probs, num_samples=1, generator=g).item()\n",
    "        context = context[1:] + [ix]\n",
    "        out.append(ix)\n",
    "        if ix == 0:\n",
    "            break\n",
    "    print(''.join(itos[i] for i in out))"
   ]
  },
  {
   "cell_type": "code",
   "execution_count": 11,
   "id": "3807aac8-b6c1-4c37-b425-621e352f0dc1",
   "metadata": {},
   "outputs": [
    {
     "name": "stdout",
     "output_type": "stream",
     "text": [
      "11897\n"
     ]
    }
   ],
   "source": [
    "# Problem 1: Loss at initialisation is very and should be close to 1/27 (because 27 chars) because we want each charater\n",
    "# to have equal probablity at initialisation, Because of this problem model is spending time to bring loss in range of 1/27, which is bad.\n",
    "\n",
    "#Solution: Decrease logits as much as possible in first iteration i.e reduce logits = h @ W2 + b2\n",
    "# We can do this by setting \n",
    "# W2 = torch.randn((n_hidden, vocab_size), generator = g) * 0.01 (Weights will be very close to each other and prob will be almost equal and loss will be less) \n",
    "# and b2 = torch.randn(vocab_size, generator = g) * 0 at initialisation\n",
    "n_embd = 10 # dimensions of character embedding vectors\n",
    "n_hidden = 200 # number of nuerons in hidden layer\n",
    "\n",
    "g = torch.Generator().manual_seed(2147483647) # for same result reproducibility\n",
    "C = torch.randn((vocab_size, n_embd), generator=g)\n",
    "W1 = torch.randn((n_embd * block_size, n_hidden), generator = g)\n",
    "b1 = torch.randn(n_hidden, generator = g)\n",
    "W2 = torch.randn((n_hidden, vocab_size), generator = g) * 0.01 # Changed\n",
    "b2 = torch.randn(vocab_size, generator = g) * 0 # Changed\n",
    "\n",
    "parameters = [C, W1, b1, W2, b2]\n",
    "print(sum(p.nelement() for p in parameters))\n",
    "for p in parameters:\n",
    "    p.requires_grad = True"
   ]
  },
  {
   "cell_type": "code",
   "execution_count": 12,
   "id": "6bd9264e-8af0-4803-b10d-d2bfe47f86a3",
   "metadata": {},
   "outputs": [
    {
     "name": "stdout",
     "output_type": "stream",
     "text": [
      "      0/ 200000:3.3221\n",
      "  10000/ 200000:2.1900\n",
      "  20000/ 200000:2.4196\n",
      "  30000/ 200000:2.6067\n",
      "  40000/ 200000:2.0601\n",
      "  50000/ 200000:2.4988\n",
      "  60000/ 200000:2.3902\n",
      "  70000/ 200000:2.1344\n",
      "  80000/ 200000:2.3369\n",
      "  90000/ 200000:2.1299\n",
      " 100000/ 200000:1.8329\n",
      " 110000/ 200000:2.2053\n",
      " 120000/ 200000:1.8540\n",
      " 130000/ 200000:2.4566\n",
      " 140000/ 200000:2.1879\n",
      " 150000/ 200000:2.1118\n",
      " 160000/ 200000:1.8956\n",
      " 170000/ 200000:1.8645\n",
      " 180000/ 200000:2.0326\n",
      " 190000/ 200000:1.8417\n"
     ]
    }
   ],
   "source": [
    "# Retraining\n",
    "max_steps = 200000\n",
    "batch_size = 32\n",
    "lossi = []\n",
    "\n",
    "for i in range(max_steps):\n",
    "    ix = torch.randint(0, Xtr.shape[0], (batch_size,), generator=g)\n",
    "    Xb, Yb = Xtr[ix], Ytr[ix] # batch X, Y\n",
    "    \n",
    "    # FORWARD PASS\n",
    "    emb = C[Xb] # Embedding characters into vectors\n",
    "    embcat = emb.view(emb.shape[0], -1) # concatenate the vectors\n",
    "    hpreact = embcat @ W1 + b1 # hidden layer pre-activation\n",
    "    # First layer will be 3 input embeddings\n",
    "    h = torch.tanh(hpreact) # Second (hidden) Layer (32, 100)\n",
    "    logits = h @ W2 + b2 # Third Layer (32, 27)\n",
    "    loss = F.cross_entropy(logits, Yb)\n",
    "    \n",
    "    # print(loss.item())\n",
    "    # BACKWARD PASS\n",
    "    for p in parameters:\n",
    "        p.grad = None\n",
    "    loss.backward()\n",
    "    lr = 0.1 if i < 100000 else 0.01\n",
    "    for p in parameters:\n",
    "        p.data += -lr * p.grad\n",
    "\n",
    "    if i % 10000 == 0:\n",
    "        print(f'{i:7d}/{max_steps:7d}:{loss.item():.4f}') #print once in a while\n",
    "    lossi.append(loss.log10().item())\n",
    "\n",
    "# As we can see initial loss much lesser"
   ]
  },
  {
   "cell_type": "code",
   "execution_count": 13,
   "id": "ef26fd37-00e9-49c3-991c-8de8f3a92493",
   "metadata": {},
   "outputs": [
    {
     "data": {
      "text/plain": [
       "[<matplotlib.lines.Line2D at 0x151c43ad0>]"
      ]
     },
     "execution_count": 13,
     "metadata": {},
     "output_type": "execute_result"
    },
    {
     "data": {
      "image/png": "[encoded data removed]",
      "text/plain": [
       "<Figure size 640x480 with 1 Axes>"
      ]
     },
     "metadata": {},
     "output_type": "display_data"
    }
   ],
   "source": [
    "plt.plot(lossi)\n",
    "# When we visualise it we see that the model takes time to train on more sensible values instead of bringing the loss down in range of 1/27"
   ]
  },
  {
   "cell_type": "code",
   "execution_count": 14,
   "id": "36cc3113-66f8-467e-8ce3-6fcb30e46a51",
   "metadata": {},
   "outputs": [
    {
     "name": "stdout",
     "output_type": "stream",
     "text": [
      "train 2.0695888996124268\n",
      "val 2.131074905395508\n"
     ]
    }
   ],
   "source": [
    "@torch.no_grad()\n",
    "def split_loss(split):\n",
    "    x, y = {\n",
    "        'train': (Xtr, Ytr),\n",
    "        'val': (Xdev, Ydev),\n",
    "        'test': (Xte, Yte),\n",
    "    }[split]\n",
    "    emb = C[x]\n",
    "    embcat = emb.view(emb.shape[0], -1)\n",
    "    h = torch.tanh(embcat @ W1 + b1)\n",
    "    logits = h @ W2 + b2\n",
    "    loss = F.cross_entropy(logits, y)\n",
    "    print(split, loss.item())\n",
    "\n",
    "split_loss('train')\n",
    "split_loss('val')"
   ]
  },
  {
   "cell_type": "code",
   "execution_count": 15,
   "id": "d1484074-9f79-44f8-b672-718c1436061a",
   "metadata": {},
   "outputs": [],
   "source": [
    "# Problem 2: When calculating h = torch.tanh(hpreact), tanh squeeshes most of the values to 1 or -1 because of the way it works.\n",
    "# Therefore, when backpropagating h and specifically the tanh function i.e \n",
    "#                                                self.grad += (1-t**2)*out.grad\n",
    "# if t = 1 or t = -1, self.grad = 0. This is BAD because we are losing gradient. And in the forward pass, there are a lot of values\n",
    "# that are 1 or -1"
   ]
  },
  {
   "cell_type": "code",
   "execution_count": 16,
   "id": "16ddb786-45e9-4cf8-894d-d89138200676",
   "metadata": {},
   "outputs": [
    {
     "data": {
      "text/plain": [
       "<matplotlib.image.AxesImage at 0x1681b26c0>"
      ]
     },
     "execution_count": 16,
     "metadata": {},
     "output_type": "execute_result"
    },
    {
     "data": {
      "image/png": "[encoded data removed]",
      "text/plain": [
       "<Figure size 2000x1000 with 1 Axes>"
      ]
     },
     "metadata": {},
     "output_type": "display_data"
    }
   ],
   "source": [
    "plt.figure(figsize=(20,10))\n",
    "plt.imshow(h.abs() > 0.99, cmap='gray', interpolation='nearest')"
   ]
  },
  {
   "cell_type": "code",
   "execution_count": 17,
   "id": "00f9f3cc-86ef-418f-b89d-853f32c424c3",
   "metadata": {},
   "outputs": [
    {
     "data": {
      "image/png": "[encoded data removed]",
      "text/plain": [
       "<Figure size 640x480 with 1 Axes>"
      ]
     },
     "metadata": {},
     "output_type": "display_data"
    }
   ],
   "source": [
    "plt.hist(h.view(-1).tolist(), 50);"
   ]
  },
  {
   "cell_type": "code",
   "execution_count": 18,
   "id": "722f2cbb-a390-4da7-9d1b-4495427888d8",
   "metadata": {},
   "outputs": [
    {
     "data": {
      "image/png": "[encoded data removed]",
      "text/plain": [
       "<Figure size 640x480 with 1 Axes>"
      ]
     },
     "metadata": {},
     "output_type": "display_data"
    }
   ],
   "source": [
    "plt.hist(hpreact.view(-1).tolist(), 50);"
   ]
  },
  {
   "cell_type": "code",
   "execution_count": 19,
   "id": "cb1622e7-292b-4127-b5a0-30021e478c8a",
   "metadata": {},
   "outputs": [
    {
     "name": "stdout",
     "output_type": "stream",
     "text": [
      "11897\n"
     ]
    }
   ],
   "source": [
    "# Solution to problem 2: hpreact = embcat @ W1 + b1,\n",
    "# embcat is uniform gaussian distribution so it is not causing this problem but W1 and b1 are not gaussian and are spread out.\n",
    "# So, we multiply W1 and b1 with a small number (0.1 or 0.2 etc) to make them closer to zero\n",
    "n_embd = 10 # dimensions of character embedding vectors\n",
    "n_hidden = 200 # number of nuerons in hidden layer\n",
    "\n",
    "g = torch.Generator().manual_seed(2147483647) # for same result reproducibility\n",
    "C = torch.randn((vocab_size, n_embd), generator=g)\n",
    "W1 = torch.randn((n_embd * block_size, n_hidden), generator = g) * 0.2 # Changed\n",
    "b1 = torch.randn(n_hidden, generator = g) * 0.01 # Changed\n",
    "W2 = torch.randn((n_hidden, vocab_size), generator = g) * 0.01\n",
    "b2 = torch.randn(vocab_size, generator = g) * 0\n",
    "\n",
    "parameters = [C, W1, b1, W2, b2]\n",
    "print(sum(p.nelement() for p in parameters))\n",
    "for p in parameters:\n",
    "    p.requires_grad = True"
   ]
  },
  {
   "cell_type": "code",
   "execution_count": 20,
   "id": "adc5369e-0d37-4da9-ad17-3f7e5ecf8070",
   "metadata": {},
   "outputs": [
    {
     "name": "stdout",
     "output_type": "stream",
     "text": [
      "      0/ 200000:3.3135\n",
      "  10000/ 200000:2.1648\n",
      "  20000/ 200000:2.3061\n",
      "  30000/ 200000:2.4541\n",
      "  40000/ 200000:1.9787\n",
      "  50000/ 200000:2.2930\n",
      "  60000/ 200000:2.4232\n",
      "  70000/ 200000:2.0680\n",
      "  80000/ 200000:2.3095\n",
      "  90000/ 200000:2.1207\n",
      " 100000/ 200000:1.8269\n",
      " 110000/ 200000:2.2045\n",
      " 120000/ 200000:1.9797\n",
      " 130000/ 200000:2.3946\n",
      " 140000/ 200000:2.1000\n",
      " 150000/ 200000:2.1948\n",
      " 160000/ 200000:1.8619\n",
      " 170000/ 200000:1.7809\n",
      " 180000/ 200000:1.9673\n",
      " 190000/ 200000:1.8295\n"
     ]
    }
   ],
   "source": [
    "# Retraining\n",
    "max_steps = 200000\n",
    "batch_size = 32\n",
    "lossi = []\n",
    "\n",
    "for i in range(max_steps):\n",
    "    ix = torch.randint(0, Xtr.shape[0], (batch_size,), generator=g)\n",
    "    Xb, Yb = Xtr[ix], Ytr[ix] # batch X, Y\n",
    "    \n",
    "    # FORWARD PASS\n",
    "    emb = C[Xb] # Embedding characters into vectors\n",
    "    embcat = emb.view(emb.shape[0], -1) # concatenate the vectors\n",
    "    hpreact = embcat @ W1 + b1 # hidden layer pre-activation\n",
    "    # First layer will be 3 input embeddings\n",
    "    h = torch.tanh(hpreact) # Second (hidden) Layer (32, 100)\n",
    "    logits = h @ W2 + b2 # Third Layer (32, 27)\n",
    "    loss = F.cross_entropy(logits, Yb)\n",
    "    \n",
    "    # print(loss.item())\n",
    "    # BACKWARD PASS\n",
    "    for p in parameters:\n",
    "        p.grad = None\n",
    "    loss.backward()\n",
    "    lr = 0.1 if i < 100000 else 0.01\n",
    "    for p in parameters:\n",
    "        p.data += -lr * p.grad\n",
    "\n",
    "    if i % 10000 == 0:\n",
    "        print(f'{i:7d}/{max_steps:7d}:{loss.item():.4f}') #print once in a while\n",
    "    lossi.append(loss.log10().item())\n",
    "\n",
    "# As we can see initial loss much lesser"
   ]
  },
  {
   "cell_type": "code",
   "execution_count": 21,
   "id": "93809344-00e0-416d-b612-56a81d12a038",
   "metadata": {},
   "outputs": [
    {
     "name": "stdout",
     "output_type": "stream",
     "text": [
      "train 2.0355966091156006\n",
      "val 2.102678060531616\n"
     ]
    }
   ],
   "source": [
    "@torch.no_grad()\n",
    "def split_loss(split):\n",
    "    x, y = {\n",
    "        'train': (Xtr, Ytr),\n",
    "        'val': (Xdev, Ydev),\n",
    "        'test': (Xte, Yte),\n",
    "    }[split]\n",
    "    emb = C[x]\n",
    "    embcat = emb.view(emb.shape[0], -1)\n",
    "    h = torch.tanh(embcat @ W1 + b1)\n",
    "    logits = h @ W2 + b2\n",
    "    loss = F.cross_entropy(logits, y)\n",
    "    print(split, loss.item())\n",
    "\n",
    "split_loss('train')\n",
    "split_loss('val')"
   ]
  },
  {
   "cell_type": "code",
   "execution_count": 22,
   "id": "70e3404b-da0f-413c-9a90-e9635fa3c2f6",
   "metadata": {},
   "outputs": [
    {
     "name": "stdout",
     "output_type": "stream",
     "text": [
      "tensor(-0.0003) tensor(0.9953)\n",
      "tensor(0.0026) tensor(3.1612)\n"
     ]
    },
    {
     "data": {
      "image/png": "[encoded data removed]",
      "text/plain": [
       "<Figure size 2000x500 with 2 Axes>"
      ]
     },
     "metadata": {},
     "output_type": "display_data"
    }
   ],
   "source": [
    "# How to find/calculate the magic numbers (like 0.2 or 0.01 in above case)\n",
    "# Example Problem:\n",
    "x = torch.randn(1000, 10) # Example random embeddings\n",
    "w = torch.randn(10, 200) # Example random weights\n",
    "y = x @ w # Pre-Activations\n",
    "print(x.mean(), x.std()) # x's mean and standard deviation)\n",
    "print(y.mean(), y.std()) # y's mean and standard deviation)\n",
    "# Standard deviation basically means the spread/expansion of data/value as compared to mean\n",
    "plt.figure(figsize=(20, 5))\n",
    "plt.subplot(121)\n",
    "plt.hist(x.view(-1).tolist(), 50, density=True);\n",
    "plt.subplot(122)\n",
    "plt.hist(y.view(-1).tolist(), 50, density=True);"
   ]
  },
  {
   "cell_type": "code",
   "execution_count": 23,
   "id": "987831f2-703b-43fd-a59b-3c9209c51cc2",
   "metadata": {},
   "outputs": [
    {
     "name": "stdout",
     "output_type": "stream",
     "text": [
      "tensor(-0.0028) tensor(1.0072)\n",
      "tensor(-0.0620) tensor(16.0345)\n",
      "tensor(-0.0028) tensor(1.0072)\n",
      "tensor(-0.0008) tensor(0.6357)\n"
     ]
    }
   ],
   "source": [
    "# After plotting we can see that y is more spread out than x.\n",
    "# THIS IS BAD as we want ROUGHLY UNIT GAUSSIAN across the network\n",
    "# TO FIND: How to scale w to preserve unit gaussian\n",
    "# For example: If\n",
    "x = torch.randn(1000, 10) \n",
    "w = torch.randn(10, 200) * 5 # This will increase the spread\n",
    "\n",
    "y = x @ w # Pre-Activations\n",
    "print(x.mean(), x.std()) # x's mean and standard deviation)\n",
    "print(y.mean(), y.std()) # y's mean and standard deviation)\n",
    "\n",
    "w = torch.randn(10, 200) * 0.2 # This will decrease the spread\n",
    "y = x @ w # Pre-Activations\n",
    "\n",
    "print(x.mean(), x.std()) # x's mean and standard deviation)\n",
    "print(y.mean(), y.std()) # y's mean and standard deviation)"
   ]
  },
  {
   "cell_type": "code",
   "execution_count": 24,
   "id": "13813f65-eced-48cd-aad3-13f384e36ce3",
   "metadata": {},
   "outputs": [
    {
     "name": "stdout",
     "output_type": "stream",
     "text": [
      "tensor(-0.0015) tensor(0.9984)\n",
      "tensor(-0.0011) tensor(1.0192)\n"
     ]
    }
   ],
   "source": [
    "# Now we need to find what to multiply to preserve STD =~ 1.\n",
    "# Mathematically it is found that we are supposed to divide weights by square root of 'Fan N'\n",
    "# Fan n = number of input elements i.e 10 in this case\n",
    "# Therefore,\n",
    "# w = torch.randn(10, 200) / 10**0.5\n",
    "# Raising a number by 0.5 is equal to it's square root\n",
    "# So,\n",
    "x = torch.randn(1000, 10) \n",
    "w = torch.randn(10, 200) / 10**0.5\n",
    "\n",
    "y = x @ w # Pre-Activations\n",
    "print(x.mean(), x.std()) # x's mean and standard deviation)\n",
    "print(y.mean(), y.std()) # y's mean and standard deviation)\n",
    " # We find that std of y is close to 1 i.e UNIT GAUSSIAN"
   ]
  },
  {
   "cell_type": "code",
   "execution_count": 25,
   "id": "0d907415-8a5a-4245-98b0-1bf1fddb7f7d",
   "metadata": {},
   "outputs": [
    {
     "name": "stdout",
     "output_type": "stream",
     "text": [
      "11897\n"
     ]
    }
   ],
   "source": [
    "# In MLP's if the network is big we need to make sure that the activations are well behaved i.e they are not \n",
    "# squaushing down to 0 or raising upto infinity at initialisation.\n",
    "# This was focused on in paper https://arxiv.org/abs/1502.01852\n",
    "# This paper also focuses on the std of backpropagated gradients.\n",
    "# This paper introduces that to make the std gaussian:\n",
    "#                   std = gain/fan_mode**0.5\n",
    "# Gain: Because tanh, ReLU etc are squashing operations, to make sure that std stays consistent, we need to boost the output \n",
    "# distributions with some number to ensure Unit Gaussian\n",
    "# For example for ReLU gain is 2**0.5 because ReLU sqaushes half inputs to zero.\n",
    "# Similarly for tanh is it 5/3\n",
    "# Details for all https://pytorch.org/docs/stable/nn.init.html\n",
    "# This appraoch was also implemented in Pytorch in torch.nn.init.kaiming_normal()\n",
    "# So while initialising our nueral net we need to: \n",
    "\n",
    "n_embd = 10 # dimensions of character embedding vectors\n",
    "n_hidden = 200 # number of nuerons in hidden layer\n",
    "\n",
    "g = torch.Generator().manual_seed(2147483647) # for same result reproducibility\n",
    "C = torch.randn((vocab_size, n_embd), generator=g)\n",
    "W1 = torch.randn((n_embd * block_size, n_hidden), generator = g) * (5/3)/((n_embd * block_size)**0.5) #According to the proposed paper\n",
    "b1 = torch.randn(n_hidden, generator = g) * 0.01 \n",
    "W2 = torch.randn((n_hidden, vocab_size), generator = g) * 0.01\n",
    "b2 = torch.randn(vocab_size, generator = g) * 0\n",
    "\n",
    "parameters = [C, W1, b1, W2, b2]\n",
    "print(sum(p.nelement() for p in parameters))\n",
    "for p in parameters:\n",
    "    p.requires_grad = True"
   ]
  },
  {
   "cell_type": "code",
   "execution_count": 26,
   "id": "4c26d9e0-bcc7-4ae9-84de-13d196d534b3",
   "metadata": {},
   "outputs": [
    {
     "name": "stdout",
     "output_type": "stream",
     "text": [
      "      0/ 200000:3.3179\n",
      "  10000/ 200000:2.1910\n",
      "  20000/ 200000:2.3270\n",
      "  30000/ 200000:2.5396\n",
      "  40000/ 200000:1.9468\n",
      "  50000/ 200000:2.3331\n",
      "  60000/ 200000:2.3852\n",
      "  70000/ 200000:2.1173\n",
      "  80000/ 200000:2.3159\n",
      "  90000/ 200000:2.2010\n",
      " 100000/ 200000:1.8591\n",
      " 110000/ 200000:2.0881\n",
      " 120000/ 200000:1.9389\n",
      " 130000/ 200000:2.3913\n",
      " 140000/ 200000:2.0949\n",
      " 150000/ 200000:2.1458\n",
      " 160000/ 200000:1.7824\n",
      " 170000/ 200000:1.7249\n",
      " 180000/ 200000:1.9752\n",
      " 190000/ 200000:1.8614\n"
     ]
    }
   ],
   "source": [
    "# Retraining\n",
    "max_steps = 200000\n",
    "batch_size = 32\n",
    "lossi = []\n",
    "\n",
    "for i in range(max_steps):\n",
    "    ix = torch.randint(0, Xtr.shape[0], (batch_size,), generator=g)\n",
    "    Xb, Yb = Xtr[ix], Ytr[ix] # batch X, Y\n",
    "    \n",
    "    # FORWARD PASS\n",
    "    emb = C[Xb] # Embedding characters into vectors\n",
    "    embcat = emb.view(emb.shape[0], -1) # concatenate the vectors\n",
    "    hpreact = embcat @ W1 + b1 # hidden layer pre-activation\n",
    "    # First layer will be 3 input embeddings\n",
    "    h = torch.tanh(hpreact) # Second (hidden) Layer (32, 100)\n",
    "    logits = h @ W2 + b2 # Third Layer (32, 27)\n",
    "    loss = F.cross_entropy(logits, Yb)\n",
    "    \n",
    "    # print(loss.item())\n",
    "    # BACKWARD PASS\n",
    "    for p in parameters:\n",
    "        p.grad = None\n",
    "    loss.backward()\n",
    "    lr = 0.1 if i < 100000 else 0.01\n",
    "    for p in parameters:\n",
    "        p.data += -lr * p.grad\n",
    "\n",
    "    if i % 10000 == 0:\n",
    "        print(f'{i:7d}/{max_steps:7d}:{loss.item():.4f}') #print once in a while\n",
    "    lossi.append(loss.log10().item())\n",
    "\n",
    "# As we can see initial loss is lesser "
   ]
  },
  {
   "cell_type": "code",
   "execution_count": 27,
   "id": "09f84586-a34d-468a-bc74-80372de4af2b",
   "metadata": {},
   "outputs": [
    {
     "name": "stdout",
     "output_type": "stream",
     "text": [
      "train 2.0376641750335693\n",
      "val 2.106989622116089\n"
     ]
    }
   ],
   "source": [
    "@torch.no_grad()\n",
    "def split_loss(split):\n",
    "    x, y = {\n",
    "        'train': (Xtr, Ytr),\n",
    "        'val': (Xdev, Ydev),\n",
    "        'test': (Xte, Yte),\n",
    "    }[split]\n",
    "    emb = C[x]\n",
    "    embcat = emb.view(emb.shape[0], -1)\n",
    "    h = torch.tanh(embcat @ W1 + b1)\n",
    "    logits = h @ W2 + b2\n",
    "    loss = F.cross_entropy(logits, y)\n",
    "    print(split, loss.item())\n",
    "\n",
    "split_loss('train')\n",
    "split_loss('val')\n",
    "# Similar results with much more scalable initialisation"
   ]
  },
  {
   "cell_type": "code",
   "execution_count": 28,
   "id": "342743f2-41f0-4474-b7c1-e059dbb6612d",
   "metadata": {},
   "outputs": [
    {
     "name": "stdout",
     "output_type": "stream",
     "text": [
      "12297\n"
     ]
    }
   ],
   "source": [
    "# BATCH NORMALISATION: (40:35)\n",
    "# This was a technique introduced by google in paper https://arxiv.org/abs/2105.07576\n",
    "# They introduced that in order to make our activations gaussian, we can just take our pre activation and simply make them gaussian\n",
    "# This was a very simple and effective technique. On top of that it works because this operation is perfectly diffrentiable as well.\n",
    "# Why do we want pre activations to be gaussian? Because if they are very small numbers then the tanh is inactve and if they are \n",
    "# very large then tanh is very saturated\n",
    "# What the paper introduced:\n",
    "# 1. Calculate the mean i.e\n",
    "#              m = sum of all values/ total number of values\n",
    "# 2. Calculate the variance i.e\n",
    "#          variance = (standard_deviatiaon)**2 = (element - mean)**2/total number of elements      (This signifies how away a value is from the mean)\n",
    "# 3. Calculate standard deviation i.e\n",
    "#          standard_deviatiaon = square root of variance     # THis will normalise the data\n",
    "# 4. Scale and shift i.e\n",
    "#          y = (gain * standard_deviatiaon) + bias   # This will normalise the data throughout the model\n",
    "\n",
    "n_embd = 10 # dimensions of character embedding vectors\n",
    "n_hidden = 200 # number of nuerons in hidden layer\n",
    "\n",
    "g = torch.Generator().manual_seed(2147483647) # for same result reproducibility\n",
    "C = torch.randn((vocab_size, n_embd), generator=g)\n",
    "W1 = torch.randn((n_embd * block_size, n_hidden), generator = g) * (5/3)/((n_embd * block_size)**0.5) #According to the proposed paper\n",
    "b1 = torch.randn(n_hidden, generator = g) * 0.01 \n",
    "W2 = torch.randn((n_hidden, vocab_size), generator = g) * 0.01\n",
    "b2 = torch.randn(vocab_size, generator = g) * 0\n",
    "\n",
    "bngain = torch.ones((1, n_hidden)) # Batch normalisation gain\n",
    "bnbias = torch.ones((1, n_hidden)) # Batch normalisation bias\n",
    "\n",
    "parameters = [C, W1, b1, W2, b2, bngain, bnbias]\n",
    "print(sum(p.nelement() for p in parameters))\n",
    "for p in parameters:\n",
    "    p.requires_grad = True"
   ]
  },
  {
   "cell_type": "code",
   "execution_count": 29,
   "id": "a46ac5c6-a358-4d59-b420-39d807985c79",
   "metadata": {},
   "outputs": [
    {
     "name": "stdout",
     "output_type": "stream",
     "text": [
      "      0/ 200000:3.3401\n",
      "  10000/ 200000:2.2846\n",
      "  20000/ 200000:2.3284\n",
      "  30000/ 200000:2.5253\n",
      "  40000/ 200000:1.9592\n",
      "  50000/ 200000:2.5090\n",
      "  60000/ 200000:2.3124\n",
      "  70000/ 200000:2.0885\n",
      "  80000/ 200000:2.3997\n",
      "  90000/ 200000:2.1687\n",
      " 100000/ 200000:1.9234\n",
      " 110000/ 200000:2.3111\n",
      " 120000/ 200000:1.9855\n",
      " 130000/ 200000:2.5203\n",
      " 140000/ 200000:2.3358\n",
      " 150000/ 200000:2.2478\n",
      " 160000/ 200000:2.0123\n",
      " 170000/ 200000:1.8866\n",
      " 180000/ 200000:1.9666\n",
      " 190000/ 200000:1.8665\n"
     ]
    }
   ],
   "source": [
    "# Retraining\n",
    "max_steps = 200000\n",
    "batch_size = 32\n",
    "lossi = []\n",
    "\n",
    "for i in range(max_steps):\n",
    "    ix = torch.randint(0, Xtr.shape[0], (batch_size,), generator=g)\n",
    "    Xb, Yb = Xtr[ix], Ytr[ix] # batch X, Y\n",
    "    \n",
    "    # FORWARD PASS\n",
    "    emb = C[Xb] # Embedding characters into vectors\n",
    "    embcat = emb.view(emb.shape[0], -1) # concatenate the vectors\n",
    "    hpreact = embcat @ W1 + b1 # hidden layer pre-activation\n",
    "\n",
    "    # Applying the approach mentioned in paper i.e Batch Normalisation\n",
    "    # Because bngain is initialised to 1 and bnbias is initialised to zero, the pre activation at least at initialisation will be roughly gaussian\n",
    "    hpreact = bngain * (hpreact - hpreact.mean(0, keepdim=True)) / hpreact.std(0, keepdim=True) + bnbias \n",
    "    \n",
    "    # First layer will be 3 input embeddings\n",
    "    h = torch.tanh(hpreact) # Second (hidden) Layer (32, 100)\n",
    "    logits = h @ W2 + b2 # Third Layer (32, 27)\n",
    "    loss = F.cross_entropy(logits, Yb)\n",
    "    \n",
    "    # print(loss.item())\n",
    "    # BACKWARD PASS\n",
    "    for p in parameters:\n",
    "        p.grad = None\n",
    "    loss.backward()\n",
    "    lr = 0.1 if i < 100000 else 0.01\n",
    "    for p in parameters:\n",
    "        p.data += -lr * p.grad\n",
    "\n",
    "    if i % 10000 == 0:\n",
    "        print(f'{i:7d}/{max_steps:7d}:{loss.item():.4f}') #print once in a while\n",
    "    lossi.append(loss.log10().item())\n",
    "\n",
    "# As we can see initial loss is lesser "
   ]
  },
  {
   "cell_type": "code",
   "execution_count": 30,
   "id": "2660c138-f80e-4f13-8701-0df7553079ee",
   "metadata": {},
   "outputs": [
    {
     "name": "stdout",
     "output_type": "stream",
     "text": [
      "train 2.0668179988861084\n",
      "val 2.11177921295166\n"
     ]
    }
   ],
   "source": [
    "@torch.no_grad()\n",
    "def split_loss(split):\n",
    "    x, y = {\n",
    "        'train': (Xtr, Ytr),\n",
    "        'val': (Xdev, Ydev),\n",
    "        'test': (Xte, Yte),\n",
    "    }[split]\n",
    "    emb = C[x]\n",
    "    embcat = emb.view(emb.shape[0], -1)\n",
    "    hpreact = embcat @ W1 + b1\n",
    "    hpreact = bngain * (hpreact - hpreact.mean(0, keepdim=True)) / hpreact.std(0, keepdim=True) + bnbias # Included here as well\n",
    "    h = torch.tanh(hpreact)\n",
    "    logits = h @ W2 + b2\n",
    "    loss = F.cross_entropy(logits, y)\n",
    "    print(split, loss.item())\n",
    "\n",
    "split_loss('train')\n",
    "split_loss('val')\n",
    "# Similar results with much more scalable initialisation"
   ]
  },
  {
   "cell_type": "code",
   "execution_count": 31,
   "id": "a1218d70-512f-4762-ab6d-ea10b6ccc5f0",
   "metadata": {},
   "outputs": [],
   "source": [
    "# As this is a small NN, we are not expecting the batch norm layer to make a huge difference. But as the NN size\n",
    "# grows, it becomes really hard to make weight matrices roughly gaussian. So in that case it becomes handy to apply\n",
    "# batch norm layer acroos the network after every pre activation layer (Basically after layers where matrix mul is taking place)."
   ]
  },
  {
   "cell_type": "code",
   "execution_count": 32,
   "id": "c2086565-392e-488b-98df-da11579570ce",
   "metadata": {},
   "outputs": [],
   "source": [
    "# Now what was traditionally done that we used to feed to one input example in the NN and it used to give us it's logits as output.\n",
    "# But for efficiency reasons we decided to pass input as a batch(as in the example above)\n",
    "# So what effect this has is that the each input example has some value of mean and STD that are present in the batch as well.\n",
    "# Astonishingly, this somehow has a good effect on the performance. This is because NN learns to pad out the additional entropy that \n",
    "# other examples in the batch bring along. All this makes it harder for NN to OVERFIT the data and therefore enhances the performance.\n",
    "# This has somewhat an affect similar to Data augumentation.\n",
    "# Batch Normalisation has a regularisation effect that makes it even better (52:00)"
   ]
  },
  {
   "cell_type": "code",
   "execution_count": 33,
   "id": "5ca48179-c5ee-484e-aa29-874cd9ddcf7e",
   "metadata": {},
   "outputs": [
    {
     "data": {
      "text/plain": [
       "(tensor([[-2.2830e-03,  2.3314e-04, -1.7935e+00,  3.9475e-01, -1.2088e+00,\n",
       "           8.8940e-01,  1.9944e+00,  1.7648e+00,  7.8241e-01,  2.2918e+00,\n",
       "          -2.2332e+00, -2.2610e+00, -8.9849e-01, -7.7208e-01, -5.9051e-01,\n",
       "           1.5853e+00,  3.0194e-01, -2.0090e+00, -1.1314e+00,  1.3202e+00,\n",
       "           9.6731e-01, -1.0198e+00,  9.5860e-01,  4.1243e-01,  9.6788e-01,\n",
       "           7.1672e-01,  6.9090e-01, -1.8534e+00,  3.5037e-01,  1.3999e+00,\n",
       "          -3.8203e-01, -1.9591e+00, -1.2362e+00, -2.0290e-01, -1.2511e+00,\n",
       "          -1.5688e+00, -2.2653e+00, -6.1519e-01,  1.4280e-01, -3.1523e-01,\n",
       "           2.2841e-01, -4.5146e-01, -1.0894e+00, -2.0975e-01,  1.6558e+00,\n",
       "           2.8455e-01, -5.9375e-01, -1.3964e+00,  1.1942e+00,  1.6368e+00,\n",
       "           6.3895e-01,  1.1443e+00,  2.1573e+00, -2.0217e-01,  1.2154e+00,\n",
       "          -1.7685e+00, -8.3350e-01,  8.9619e-01,  7.5470e-01, -6.1893e-01,\n",
       "          -1.6283e+00, -2.6783e-01, -9.2841e-01, -5.9752e-01,  7.1627e-02,\n",
       "          -4.8202e-01,  9.6415e-02,  7.8617e-01, -5.1653e-01,  9.9872e-02,\n",
       "          -1.4505e+00,  1.3454e-01,  1.2809e+00, -1.6628e+00, -1.9939e+00,\n",
       "           2.2387e-01,  1.3699e+00,  3.6065e-01,  8.7941e-01, -1.2733e-01,\n",
       "           7.3755e-01,  1.5728e+00,  7.8581e-01, -7.8564e-01,  7.9476e-01,\n",
       "          -9.9801e-01, -5.9838e-01, -8.4083e-01, -4.0568e-02, -9.8715e-01,\n",
       "          -6.5074e-02,  1.1282e+00, -8.8993e-01, -5.2196e-01, -5.4116e-01,\n",
       "          -4.0762e-01, -6.2652e-01, -1.2610e+00,  1.4379e+00, -1.8329e+00,\n",
       "          -3.6697e-01,  1.0405e+00, -1.2781e+00,  7.4725e-01,  9.2890e-01,\n",
       "          -8.6667e-01, -1.3221e+00, -2.7346e-01, -1.1658e-01, -3.1533e-01,\n",
       "           3.3097e-01,  5.1286e-01,  1.3896e-01,  1.5219e+00,  1.6247e+00,\n",
       "           8.8366e-01,  6.7888e-01, -6.0550e-01, -4.9049e-02, -1.0837e+00,\n",
       "          -3.4648e-01, -7.2452e-01,  3.5336e-01,  8.0760e-02, -1.0467e+00,\n",
       "          -1.6162e+00, -5.2624e-01, -8.8943e-01, -1.8885e+00, -3.5825e-01,\n",
       "           1.5001e+00,  6.6828e-02, -9.7692e-03,  1.4812e+00,  3.1425e-01,\n",
       "          -1.4004e+00, -3.7637e-01,  3.7508e-01,  3.7025e-01, -4.3578e-03,\n",
       "           1.3479e+00,  4.5453e-01,  1.2619e+00,  8.1512e-01,  1.0571e+00,\n",
       "           1.3410e-01,  1.4470e+00, -2.2290e+00,  1.1693e+00, -3.3893e-01,\n",
       "          -1.9583e+00,  5.4965e-01,  7.9686e-01,  1.4845e+00,  2.6242e-01,\n",
       "          -7.6283e-01,  1.5755e+00, -9.0973e-01, -1.9294e+00,  6.5511e-01,\n",
       "           9.0740e-01, -3.7840e-01, -6.8421e-01, -2.6392e+00, -1.0997e-01,\n",
       "           4.5773e-03,  6.8082e-02, -1.5407e+00, -2.2362e+00, -6.4606e-02,\n",
       "           8.1427e-01, -1.4289e+00, -1.3537e+00,  9.3306e-03,  2.6108e-01,\n",
       "          -7.6725e-01,  1.0931e+00, -9.1731e-01,  1.3887e+00, -1.5621e+00,\n",
       "           2.7095e+00,  1.1698e+00,  5.2372e-01, -2.8692e-01, -6.8337e-01,\n",
       "           2.3005e-01,  2.2824e-01, -7.6859e-01,  1.6053e+00,  2.7809e-01,\n",
       "          -5.5012e-01,  1.6747e+00, -9.9122e-01,  4.9280e-01, -1.0443e-01,\n",
       "           6.2690e-01,  1.8044e+00,  5.7163e-02,  6.2361e-01,  1.5568e-01]]),\n",
       " tensor([[2.3277, 1.7838, 2.0379, 1.9960, 2.0800, 1.7923, 2.2524, 2.6626, 2.3323,\n",
       "          2.0620, 2.5274, 2.1984, 2.4587, 2.1503, 2.0399, 1.9468, 2.4893, 2.0812,\n",
       "          1.8681, 2.4242, 2.1047, 2.3278, 2.2022, 2.1448, 2.0821, 1.9569, 1.9949,\n",
       "          2.0059, 2.3076, 2.2994, 1.9759, 2.1529, 2.0320, 1.7836, 2.5235, 2.1666,\n",
       "          2.7210, 2.2251, 2.2767, 1.9853, 2.3896, 1.9028, 2.2797, 2.0055, 2.0639,\n",
       "          2.2659, 2.3217, 2.1314, 2.1204, 2.0207, 2.0432, 2.2569, 2.2888, 1.9151,\n",
       "          2.1093, 2.0484, 2.2349, 1.9763, 2.3550, 2.1086, 2.0563, 2.6032, 1.9914,\n",
       "          2.7344, 2.6326, 2.3312, 2.1771, 1.8187, 2.0843, 2.3547, 1.7643, 1.9289,\n",
       "          1.7481, 2.4753, 1.8402, 1.6840, 2.5824, 1.9271, 1.9957, 1.7310, 2.1798,\n",
       "          1.8504, 1.8403, 2.1446, 2.4642, 2.2359, 1.8407, 2.3027, 1.8357, 2.2623,\n",
       "          1.9558, 2.3220, 1.9722, 1.9204, 2.2089, 1.6783, 1.8973, 2.0302, 2.1578,\n",
       "          2.2897, 2.1653, 2.1211, 2.3366, 2.1036, 2.1067, 2.0309, 1.9910, 2.0548,\n",
       "          2.3469, 2.0596, 1.9436, 2.3483, 2.2913, 2.0886, 1.9202, 2.1696, 1.9419,\n",
       "          2.0697, 1.9626, 2.3194, 2.2298, 2.0560, 2.0490, 2.4461, 2.0525, 1.9940,\n",
       "          1.8741, 2.4776, 2.0914, 1.9858, 1.9965, 2.2162, 2.0477, 2.1946, 2.0886,\n",
       "          2.2001, 2.6578, 2.6881, 1.9195, 2.0948, 2.0451, 2.0676, 1.9742, 1.9919,\n",
       "          2.2421, 2.5192, 2.1126, 2.2495, 2.1015, 1.8469, 2.0101, 2.3637, 2.2626,\n",
       "          2.1800, 2.1595, 2.3799, 2.2108, 2.1609, 2.3277, 1.9220, 2.3555, 1.9401,\n",
       "          1.8155, 2.4167, 1.8709, 2.0211, 2.0476, 2.0446, 1.9839, 1.8691, 2.0723,\n",
       "          1.9168, 2.2674, 2.1065, 2.3483, 2.0300, 1.9086, 1.9032, 2.3496, 2.1714,\n",
       "          2.1717, 2.1536, 2.0541, 2.3158, 1.9701, 2.0671, 1.9968, 2.1737, 2.2120,\n",
       "          2.3019, 1.9488, 1.9087, 1.8251, 1.7471, 2.2908, 1.9801, 1.9884, 2.2651,\n",
       "          2.2199, 1.9350]]))"
      ]
     },
     "execution_count": 33,
     "metadata": {},
     "output_type": "execute_result"
    }
   ],
   "source": [
    "\"\"\"\n",
    "Right now the NN is taking a batch of 3 and producing result based on that. What if we need to input one example and get result for that one \n",
    "input?\n",
    "The paper suggested that we calculate the Mean and STD for the entire training set once before training. This will have fixed mean and std.\n",
    "That means fixed numbers.\n",
    "Then instead of calculating the hpreact, we calculate it based on pre caluculated values.\n",
    "\"\"\"\n",
    "\n",
    "with torch.no_grad():\n",
    "    emb = C[Xtr]\n",
    "    embcat = emb.view(emb.shape[0], -1)\n",
    "    hpreact = embcat @ W1 + b1\n",
    "    bnmean = hpreact.mean(0, keepdim=True)\n",
    "    bnstd = hpreact.std(0, keepdim=True)\n",
    "bnmean, bnstd"
   ]
  },
  {
   "cell_type": "code",
   "execution_count": 34,
   "id": "067562f8-fe6d-4101-ae4f-6f9f341ac1e3",
   "metadata": {},
   "outputs": [
    {
     "data": {
      "text/plain": [
       "(torch.Size([1, 200]), torch.Size([1, 200]))"
      ]
     },
     "execution_count": 34,
     "metadata": {},
     "output_type": "execute_result"
    }
   ],
   "source": [
    "bnmean.shape, bnstd.shape"
   ]
  },
  {
   "cell_type": "code",
   "execution_count": 35,
   "id": "05f833b7-6c10-47c8-962c-adf7349dbc9a",
   "metadata": {},
   "outputs": [
    {
     "name": "stdout",
     "output_type": "stream",
     "text": [
      "      0/ 200000:2.2764\n",
      "  10000/ 200000:1.8187\n",
      "  20000/ 200000:2.4479\n",
      "  30000/ 200000:2.5470\n",
      "  40000/ 200000:2.2148\n",
      "  50000/ 200000:2.3033\n",
      "  60000/ 200000:2.1588\n",
      "  70000/ 200000:1.7862\n",
      "  80000/ 200000:2.1813\n",
      "  90000/ 200000:2.2586\n",
      " 100000/ 200000:1.8994\n",
      " 110000/ 200000:1.9739\n",
      " 120000/ 200000:2.0319\n",
      " 130000/ 200000:2.3274\n",
      " 140000/ 200000:1.9915\n",
      " 150000/ 200000:2.3165\n",
      " 160000/ 200000:2.2231\n",
      " 170000/ 200000:2.0658\n",
      " 180000/ 200000:1.9055\n",
      " 190000/ 200000:2.1765\n"
     ]
    }
   ],
   "source": [
    "# Retraining\n",
    "max_steps = 200000\n",
    "batch_size = 32\n",
    "lossi = []\n",
    "\n",
    "for i in range(max_steps):\n",
    "    ix = torch.randint(0, Xtr.shape[0], (batch_size,), generator=g)\n",
    "    Xb, Yb = Xtr[ix], Ytr[ix] # batch X, Y\n",
    "    \n",
    "    # FORWARD PASS\n",
    "    emb = C[Xb] # Embedding characters into vectors\n",
    "    embcat = emb.view(emb.shape[0], -1) # concatenate the vectors\n",
    "    hpreact = embcat @ W1 + b1 # hidden layer pre-activation\n",
    "\n",
    "    # Applying the approach mentioned in paper i.e Batch Normalisation\n",
    "    # Because bngain is initialised to 1 and bnbias is initialised to zero, the pre activation at least at initialisation will be roughly gaussian\n",
    "\n",
    "    # Because bnmean and bnstd are fixed, the bnmean and bnstd is not based on the whole input batch of 3 as compared to before\n",
    "    hpreact = bngain * (hpreact - bnmean) / bnstd + bnbias #Pre calculated mean and std)\n",
    "    \n",
    "    # First layer will be 3 input embeddings\n",
    "    h = torch.tanh(hpreact) # Second (hidden) Layer (32, 100)\n",
    "    logits = h @ W2 + b2 # Third Layer (32, 27)\n",
    "    loss = F.cross_entropy(logits, Yb)\n",
    "    \n",
    "    # print(loss.item())\n",
    "    # BACKWARD PASS\n",
    "    for p in parameters:\n",
    "        p.grad = None\n",
    "    loss.backward()\n",
    "    lr = 0.1 if i < 100000 else 0.01\n",
    "    for p in parameters:\n",
    "        p.data += -lr * p.grad\n",
    "\n",
    "    if i % 10000 == 0:\n",
    "        print(f'{i:7d}/{max_steps:7d}:{loss.item():.4f}') #print once in a while\n",
    "    lossi.append(loss.log10().item())\n",
    "\n",
    "# We gain amost identical results"
   ]
  },
  {
   "cell_type": "code",
   "execution_count": 54,
   "id": "95f787b2-f79f-4a6b-8eea-341ce05b44e9",
   "metadata": {},
   "outputs": [
    {
     "name": "stdout",
     "output_type": "stream",
     "text": [
      "12097\n"
     ]
    }
   ],
   "source": [
    "'''\n",
    "But no one wants to calculate Mean and STD as a second stage. Therefore the paper introduced another way to do so in a RUNNING MANNER.\n",
    "\n",
    "Approach:\n",
    "1. Before trinaining Initialise bnmean_running = torch.zeros((1, n_hidden)) #Because at initialisation the roughly gaussian mean will be around 0\n",
    "2. Before trinaining Initialise bnstd_running = torch.ones((1, n_hidden)) #Because at initialisation the roughly gaussian std will be around 1\n",
    "3. During training calculate mean and std for current i,\n",
    "    bnmeani = hpreact.mean(0, keepdim=True)\n",
    "    bnstdi = hpreact.std(0, keepdim=True)\n",
    "4. After hpreact calculation, update bnmean_running and bnstd_running a little bit in the direction of bnmeani and bnstdi,\n",
    "    bnmean_running = 0.999 * bnmean_running + 0.001 * bnmeani\n",
    "    bnstd_running = 0.999 * bnstd_running + 0.001 * bnstdi\n",
    "\n",
    "    This step won't require us to calculate gradients as we are already updating bnmean_running and bnstd_running on the side while training\n",
    "    the NN.\n",
    "'''\n",
    "n_embd = 10 # dimensions of character embedding vectors\n",
    "n_hidden = 200 # number of nuerons in hidden layer\n",
    "\n",
    "g = torch.Generator().manual_seed(2147483647) # for same result reproducibility\n",
    "C = torch.randn((vocab_size, n_embd), generator=g)\n",
    "W1 = torch.randn((n_embd * block_size, n_hidden), generator = g) * (5/3)/((n_embd * block_size)**0.5) #According to the proposed paper\n",
    "\n",
    "# Removing b1 because it is getting subtracted in hpreact anyway. Instead we are using bnbias which is responsible for biasing\n",
    "#b1 = torch.randn(n_hidden, generator = g) * 0.01 \n",
    "W2 = torch.randn((n_hidden, vocab_size), generator = g) * 0.01\n",
    "b2 = torch.randn(vocab_size, generator = g) * 0\n",
    "\n",
    "bngain = torch.ones((1, n_hidden)) # Batch normalisation gain\n",
    "bnbias = torch.ones((1, n_hidden)) # Batch normalisation bias\n",
    "\n",
    "bnmean_running = torch.zeros((1, n_hidden)) # For running mean\n",
    "bnstd_running = torch.ones((1, n_hidden)) # For Running std\n",
    "\n",
    "parameters = [C, W1, W2, b2, bngain, bnbias]\n",
    "print(sum(p.nelement() for p in parameters))\n",
    "for p in parameters:\n",
    "    p.requires_grad = True"
   ]
  },
  {
   "cell_type": "code",
   "execution_count": 55,
   "id": "1d285bea-3b61-4ef0-94b8-77ec1b6a229a",
   "metadata": {},
   "outputs": [
    {
     "name": "stdout",
     "output_type": "stream",
     "text": [
      "      0/ 200000:3.3056\n",
      "  10000/ 200000:1.9817\n",
      "  20000/ 200000:2.6418\n",
      "  30000/ 200000:2.0012\n",
      "  40000/ 200000:2.3115\n",
      "  50000/ 200000:1.8987\n",
      "  60000/ 200000:2.0529\n",
      "  70000/ 200000:2.3327\n",
      "  80000/ 200000:2.4092\n",
      "  90000/ 200000:2.2383\n",
      " 100000/ 200000:2.2589\n",
      " 110000/ 200000:2.2823\n",
      " 120000/ 200000:1.6926\n",
      " 130000/ 200000:1.9830\n",
      " 140000/ 200000:2.2002\n",
      " 150000/ 200000:2.0063\n",
      " 160000/ 200000:1.9524\n",
      " 170000/ 200000:2.4093\n",
      " 180000/ 200000:2.1574\n",
      " 190000/ 200000:2.2078\n"
     ]
    }
   ],
   "source": [
    "# Retraining\n",
    "max_steps = 200000\n",
    "batch_size = 32\n",
    "lossi = []\n",
    "\n",
    "for i in range(max_steps):\n",
    "    ix = torch.randint(0, Xtr.shape[0], (batch_size,), generator=g)\n",
    "    Xb, Yb = Xtr[ix], Ytr[ix] # batch X, Y\n",
    "    \n",
    "    # FORWARD PASS\n",
    "    emb = C[Xb] # Embedding characters into vectors\n",
    "    embcat = emb.view(emb.shape[0], -1) # concatenate the vectors\n",
    "    hpreact = embcat @ W1 # + b1 # hidden layer pre-activation (removing bias because it is getting subtracting in hpreact anyways)\n",
    "\n",
    "    # Applying the approach mentioned in paper i.e Batch Normalisation\n",
    "    # Because bngain is initialised to 1 and bnbias is initialised to zero, the pre activation at least at initialisation will be roughly gaussian\n",
    "    \n",
    "    bnmeani = hpreact.mean(0, keepdim=True) # Mean of current i\n",
    "    bnstdi = hpreact.std(0, keepdim=True) # STD of current i\n",
    "    \n",
    "    hpreact = bngain * (hpreact - bnmeani) / bnstdi + bnbias \n",
    "\n",
    "    # Updating the bnmean_running and bnstd_running in the direction of bnmeani and bnstdi while training but on the side\n",
    "    with torch.no_grad():\n",
    "        bnmean_running = 0.999 * bnmean_running + 0.001 * bnmeani\n",
    "        bnstd_running = 0.999 * bnstd_running + 0.001 * bnstdi\n",
    "    \n",
    "    # First layer will be 3 input embeddings\n",
    "    h = torch.tanh(hpreact) # Second (hidden) Layer (32, 100)\n",
    "    logits = h @ W2 + b2 # Third Layer (32, 27)\n",
    "    loss = F.cross_entropy(logits, Yb)\n",
    "    \n",
    "    # BACKWARD PASS\n",
    "    for p in parameters:\n",
    "        p.grad = None\n",
    "    loss.backward()\n",
    "    \n",
    "    lr = 0.1 if i < 100000 else 0.01\n",
    "    for p in parameters:\n",
    "        p.data += -lr * p.grad\n",
    "\n",
    "    if i % 10000 == 0:\n",
    "        print(f'{i:7d}/{max_steps:7d}:{loss.item():.4f}') #print once in a while\n",
    "    lossi.append(loss.log10().item())\n",
    "    # Similar results"
   ]
  },
  {
   "cell_type": "code",
   "execution_count": 56,
   "id": "e41300fe-832c-4894-b027-3e3036bb1624",
   "metadata": {},
   "outputs": [],
   "source": [
    "with torch.no_grad():\n",
    "  # pass the training set through\n",
    "  emb = C[Xtr]\n",
    "  embcat = emb.view(emb.shape[0], -1)\n",
    "  hpreact = embcat @ W1 # + b1\n",
    "  # measure the mean/std over the entire training set\n",
    "  bnmean = hpreact.mean(0, keepdim=True)\n",
    "  bnstd = hpreact.std(0, keepdim=True)"
   ]
  },
  {
   "cell_type": "code",
   "execution_count": 57,
   "id": "5a0928a1-d0f1-42e6-a49e-662b28dd3e61",
   "metadata": {},
   "outputs": [
    {
     "data": {
      "text/plain": [
       "(tensor([[-0.2917, -0.2343, -1.9383,  0.8034, -1.0933,  0.7949,  2.3547,  2.0389,\n",
       "           0.7187,  2.2388, -2.3641, -2.6146, -0.1790, -1.1427, -0.4775,  1.2726,\n",
       "           0.3743, -2.3318, -0.8128,  1.9031,  1.5286, -1.4091,  0.6030,  0.6167,\n",
       "           0.6414,  0.7220,  0.5056, -1.4201,  0.0679,  1.2839, -0.4748, -2.0299,\n",
       "          -1.3055, -0.3203, -1.5839, -1.1478, -2.3263, -0.3068,  0.4754, -0.2273,\n",
       "           0.0083, -0.6261, -1.0910, -0.4189,  0.5433,  0.2222, -0.7673, -1.3299,\n",
       "           0.9662,  1.8995, -0.1890,  1.1271,  1.5915, -0.7239,  0.7229, -2.2161,\n",
       "          -1.0499,  0.8685,  0.7098, -0.7499, -1.7031, -0.0340, -0.2502, -1.0810,\n",
       "          -0.0141,  0.0455,  0.2386,  0.4491, -0.2106, -0.0111, -0.9167,  0.2827,\n",
       "           1.2227, -0.9292, -2.0393, -0.3026,  1.2478,  0.5243,  0.7493,  0.4667,\n",
       "           0.8211,  1.2614,  0.4847, -0.8418,  1.3152, -1.0063, -1.2195, -1.0395,\n",
       "           0.0413, -1.3459, -1.1031,  1.2771, -0.8002, -0.4052, -0.7601, -1.0168,\n",
       "          -0.3609, -1.1361,  2.2642, -2.9926, -0.3820,  0.5631, -1.6174,  0.6226,\n",
       "           0.7037, -0.5265, -1.2523, -0.3600, -0.4184,  0.3905, -0.6242,  0.8244,\n",
       "          -0.2772,  0.6980,  1.1425,  0.9495, -0.3459, -0.8299, -0.4224, -1.1093,\n",
       "          -0.6816, -0.7416,  0.4026, -0.2520, -1.1227, -1.4869, -0.6454, -1.0822,\n",
       "          -1.3838, -0.6980,  1.2774,  0.1180,  0.1628,  1.0030,  0.4389, -1.0241,\n",
       "          -0.2795,  0.0371,  0.3400,  0.4447,  1.3877,  0.5482,  1.1951,  0.7842,\n",
       "           0.8071, -0.1437,  1.3836, -2.1500,  1.5538, -0.2122, -1.5114,  0.7293,\n",
       "           1.4002,  1.0116,  0.1062, -0.8124,  1.4673, -0.6556, -1.5224,  0.9341,\n",
       "           0.6748, -0.3176,  0.4484, -2.5429, -0.3239, -0.3517, -0.2231, -1.4442,\n",
       "          -2.7443,  0.6239,  0.7138, -1.5966, -1.3551, -0.0865,  0.3904, -0.7675,\n",
       "           0.9818, -0.0639,  1.1044, -1.3137,  3.4618,  1.3915,  0.3765, -0.1975,\n",
       "          -1.0004,  0.2860,  0.6702, -0.9503,  1.6613,  0.2678, -0.9063,  0.6583,\n",
       "          -0.6837,  0.5573, -0.0762,  0.8189,  2.1215,  0.2021,  0.9182, -0.4576]]),\n",
       " tensor([[-0.2812, -0.2448, -1.9357,  0.7987, -1.0951,  0.7996,  2.3590,  2.0276,\n",
       "           0.7145,  2.2558, -2.3493, -2.6041, -0.1745, -1.1401, -0.4652,  1.2749,\n",
       "           0.3723, -2.3250, -0.7964,  1.9143,  1.5228, -1.4094,  0.6012,  0.6139,\n",
       "           0.6377,  0.7437,  0.5030, -1.4461,  0.0872,  1.2771, -0.4605, -2.0235,\n",
       "          -1.3114, -0.3154, -1.5861, -1.1407, -2.3248, -0.3005,  0.4705, -0.2357,\n",
       "           0.0197, -0.6137, -1.1033, -0.4173,  0.5382,  0.2075, -0.7694, -1.3325,\n",
       "           0.9815,  1.9009, -0.1845,  1.1363,  1.6109, -0.7341,  0.7329, -2.2180,\n",
       "          -1.0491,  0.8764,  0.7163, -0.7565, -1.6846, -0.0314, -0.2450, -1.0655,\n",
       "          -0.0227,  0.0561,  0.2553,  0.4473, -0.2218, -0.0089, -0.9055,  0.2715,\n",
       "           1.2299, -0.9565, -2.0378, -0.2753,  1.2415,  0.5099,  0.7442,  0.4724,\n",
       "           0.8305,  1.2681,  0.5038, -0.8483,  1.3053, -1.0112, -1.2205, -1.0257,\n",
       "           0.0547, -1.3489, -1.0941,  1.2772, -0.7965, -0.4082, -0.7679, -1.0161,\n",
       "          -0.3535, -1.1379,  2.2541, -2.9992, -0.3742,  0.5710, -1.6039,  0.6341,\n",
       "           0.6977, -0.5280, -1.2573, -0.3609, -0.4203,  0.4055, -0.6208,  0.8217,\n",
       "          -0.2456,  0.6932,  1.1480,  0.9522, -0.3373, -0.8224, -0.4167, -1.1046,\n",
       "          -0.6757, -0.7495,  0.3993, -0.2623, -1.1149, -1.4804, -0.6225, -1.0946,\n",
       "          -1.3938, -0.7121,  1.2828,  0.1199,  0.1524,  0.9934,  0.4358, -1.0382,\n",
       "          -0.2729,  0.0557,  0.3444,  0.4224,  1.3791,  0.5496,  1.1971,  0.7748,\n",
       "           0.8179, -0.1427,  1.3692, -2.1450,  1.5536, -0.2129, -1.5127,  0.7338,\n",
       "           1.4101,  1.0119,  0.1074, -0.8047,  1.4806, -0.6569, -1.5373,  0.9454,\n",
       "           0.6772, -0.3147,  0.4500, -2.5525, -0.3181, -0.3379, -0.2211, -1.4387,\n",
       "          -2.7470,  0.6228,  0.7324, -1.5987, -1.3559, -0.0940,  0.4056, -0.7783,\n",
       "           0.9819, -0.0602,  1.1100, -1.3152,  3.4723,  1.3846,  0.3818, -0.1948,\n",
       "          -0.9956,  0.2790,  0.6724, -0.9287,  1.6421,  0.2839, -0.8974,  0.6562,\n",
       "          -0.6705,  0.5793, -0.0908,  0.8155,  2.1189,  0.1909,  0.9277, -0.4570]]))"
      ]
     },
     "execution_count": 57,
     "metadata": {},
     "output_type": "execute_result"
    }
   ],
   "source": [
    "# Now if we compare the Pre calculated mean and std with running mean and std, we will find that they are not very different\n",
    "bnmean_running, bnmean"
   ]
  },
  {
   "cell_type": "code",
   "execution_count": 58,
   "id": "850696e9-20a5-49a3-ae03-509f884a125c",
   "metadata": {},
   "outputs": [
    {
     "name": "stdout",
     "output_type": "stream",
     "text": [
      "train 2.066295623779297\n",
      "val 2.111121416091919\n"
     ]
    }
   ],
   "source": [
    "@torch.no_grad()\n",
    "def split_loss(split):\n",
    "    x, y = {\n",
    "        'train': (Xtr, Ytr),\n",
    "        'val': (Xdev, Ydev),\n",
    "        'test': (Xte, Yte),\n",
    "    }[split]\n",
    "    emb = C[x]\n",
    "    embcat = emb.view(emb.shape[0], -1)\n",
    "    hpreact = embcat @ W1 + b1\n",
    "    hpreact = bngain * (hpreact - bnmean_running) / bnstd_running + bnbias # Included here as well\n",
    "    h = torch.tanh(hpreact)\n",
    "    logits = h @ W2 + b2\n",
    "    loss = F.cross_entropy(logits, y)\n",
    "    print(split, loss.item())\n",
    "\n",
    "split_loss('train')\n",
    "split_loss('val')\n",
    "# Similar results to precalculated Mean and STD"
   ]
  },
  {
   "cell_type": "code",
   "execution_count": 60,
   "id": "82d0b92e-2a57-4db3-bf30-55becea10784",
   "metadata": {},
   "outputs": [],
   "source": [
    "# The paper also recommended to add 'epsilon' with STD while calculating hpreact. \n",
    "# Epsilon is a fixed small number that prevents division by 0.\n",
    "# As our network is fairly small, we won't be needing epslon as of now\n",
    "# Real world example of the NN that we implemented is resnet and pytorch's Linear layer and BatchNorm2d layer (01:04:55)"
   ]
  },
  {
   "cell_type": "code",
   "execution_count": null,
   "id": "4a96435b-4822-4dd6-bb62-c627a33fe6b0",
   "metadata": {},
   "outputs": [],
   "source": [
    "# Let's Pytorch-ify our code in a way that we will encounter in Real world examples\n"
   ]
  }
 ],
 "metadata": {
  "kernelspec": {
   "display_name": "Python 3 (ipykernel)",
   "language": "python",
   "name": "python3"
  },
  "language_info": {
   "codemirror_mode": {
    "name": "ipython",
    "version": 3
   },
   "file_extension": ".py",
   "mimetype": "text/x-python",
   "name": "python",
   "nbconvert_exporter": "python",
   "pygments_lexer": "ipython3",
   "version": "3.12.2"
  }
 },
 "nbformat": 4,
 "nbformat_minor": 5
}
